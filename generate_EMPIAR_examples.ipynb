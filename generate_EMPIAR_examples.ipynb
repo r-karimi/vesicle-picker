{
 "cells": [
  {
   "cell_type": "code",
   "execution_count": null,
   "id": "899299bc-66aa-4a13-90f8-98dbfd4c0e21",
   "metadata": {},
   "outputs": [],
   "source": [
    "# Notebook to generate thumbnails on micrographs from EMPIAR-10426 (AcrB) and EMPIAR-11637 (CI)"
   ]
  },
  {
   "cell_type": "code",
   "execution_count": 1,
   "id": "72349e77-b8c9-4ade-813b-a7b9987adcdb",
   "metadata": {},
   "outputs": [],
   "source": [
    "# Import packages\n",
    "from vesicle_picker import (\n",
    "    preprocess,\n",
    "    generate_masks,\n",
    "    postprocess,\n",
    "    helpers,\n",
    "    external_import,\n",
    "    external_export,\n",
    "    funcs_mrcio\n",
    ")\n",
    "import matplotlib.pyplot as plt\n",
    "import numpy as np\n",
    "import cv2\n",
    "import pandas as pd"
   ]
  },
  {
   "cell_type": "code",
   "execution_count": null,
   "id": "1f9a22ce-68dc-42b5-9b17-a426661b45de",
   "metadata": {},
   "outputs": [],
   "source": []
  }
 ],
 "metadata": {
  "kernelspec": {
   "display_name": "Python 3 (ipykernel)",
   "language": "python",
   "name": "python3"
  },
  "language_info": {
   "codemirror_mode": {
    "name": "ipython",
    "version": 3
   },
   "file_extension": ".py",
   "mimetype": "text/x-python",
   "name": "python",
   "nbconvert_exporter": "python",
   "pygments_lexer": "ipython3",
   "version": "3.9.18"
  }
 },
 "nbformat": 4,
 "nbformat_minor": 5
}
