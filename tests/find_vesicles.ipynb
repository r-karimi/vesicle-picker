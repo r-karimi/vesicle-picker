{
 "cells": [
  {
   "cell_type": "markdown",
   "id": "61fa5267-6e55-43e3-b87f-8736143aa191",
   "metadata": {},
   "source": [
    "# Import package modules"
   ]
  },
  {
   "cell_type": "code",
   "execution_count": null,
   "id": "8b93f34c-1fe2-4691-aa41-42c9673eb9d6",
   "metadata": {},
   "outputs": [],
   "source": [
    "%load_ext pycodestyle_magic"
   ]
  },
  {
   "cell_type": "code",
   "execution_count": null,
   "id": "f6e8cdde-b82a-4018-a4f2-2fb20b609887",
   "metadata": {},
   "outputs": [],
   "source": [
    "%pycodestyle_on"
   ]
  },
  {
   "cell_type": "code",
   "execution_count": null,
   "id": "63f68a83-62c9-45fa-81dc-8d9818a9e340",
   "metadata": {},
   "outputs": [],
   "source": [
    "from vesicle_picker import (\n",
    "    preprocess,\n",
    "    generate_masks,\n",
    "    postprocess,\n",
    "    helpers,\n",
    "    external_import,\n",
    "    external_export\n",
    ")\n",
    "import matplotlib.pyplot as plt\n",
    "import numpy as np\n",
    "import cv2\n",
    "import pandas as pd"
   ]
  },
  {
   "cell_type": "markdown",
   "id": "5b284b1f-8175-4bc5-95e1-e840b62fde7f",
   "metadata": {},
   "source": [
    "# Import a micrograph from CryoSPARC"
   ]
  },
  {
   "cell_type": "code",
   "execution_count": null,
   "id": "818919e7-6584-4d04-a1cb-4b7530c76804",
   "metadata": {
    "scrolled": true
   },
   "outputs": [],
   "source": [
    "# Use the csparc_import module to initialize a cryosparc session\n",
    "cs = external_import.load_cryosparc(\"../csparc_login.ini\")"
   ]
  },
  {
   "cell_type": "code",
   "execution_count": null,
   "id": "876254fc-3072-4e96-b2a9-85cb5f24faa1",
   "metadata": {},
   "outputs": [],
   "source": [
    "# Pull micrographs object from the output of a curate job\n",
    "micrographs = external_import.micrographs_from_csparc(\n",
    "    cs = cs,\n",
    "    project_id = \"PXX\", \n",
    "    job_id = \"JXX\", \n",
    "    job_type = \"curate\"\n",
    ")\n",
    "\n",
    "project = cs.find_project(\"PXX\")"
   ]
  },
  {
   "cell_type": "code",
   "execution_count": null,
   "id": "55d6ba07-ddd3-437d-ad44-e9c93e17ab7e",
   "metadata": {},
   "outputs": [],
   "source": [
    "# Isolate and download just the first micrograph\n",
    "micrograph = micrographs[0]\n",
    "header, image_fullres = (\n",
    "    project.download_mrc(micrograph[\"micrograph_blob/path\"])\n",
    ")\n",
    "\n",
    "# Isolate the 2D numpy array containing the image\n",
    "image_fullres = image_fullres[0]"
   ]
  },
  {
   "cell_type": "markdown",
   "id": "fdaed940-b94c-4a8f-8fe2-eca19ade8580",
   "metadata": {},
   "source": [
    "# Import a micrograph from disk"
   ]
  },
  {
   "cell_type": "code",
   "execution_count": null,
   "id": "fa71ccf2-623f-44fe-a4bc-6eeeab497f4a",
   "metadata": {},
   "outputs": [],
   "source": [
    "# Define an import function\n",
    "def import_mrc(filename):\n",
    "    \"\"\"Use funcs_mrcio to open a specified .mrc file\"\"\"\n",
    "    # Read the .mrc file in binary\n",
    "    micrograph = open(filename, 'rb')\n",
    "\n",
    "    # Use funcs_mrcio to extract image array and\n",
    "    # rescale values to lie between [-1, 1]\n",
    "    image = funcs_mrcio.irdsec_opened(micrograph, 0)\n",
    "\n",
    "    # Use funcs_mrcio to extract header info\n",
    "    header = funcs_mrcio.irdhdr_opened(micrograph)\n",
    "\n",
    "    # Return the rescaled image and header\n",
    "    return image, header"
   ]
  },
  {
   "cell_type": "code",
   "execution_count": null,
   "id": "accd622f-47c9-430f-b511-8d3eabb76002",
   "metadata": {},
   "outputs": [],
   "source": [
    "# Import the example mrc\n",
    "image_fullres, header = import_mrc(\"vesicles.mrc\")"
   ]
  },
  {
   "cell_type": "markdown",
   "id": "c6ab4560-9073-4338-a5a7-103d27819b98",
   "metadata": {},
   "source": [
    "# Preprocess micrograph"
   ]
  },
  {
   "cell_type": "code",
   "execution_count": null,
   "id": "a4124d67-ec74-4308-a25d-38ce8cf2aac0",
   "metadata": {},
   "outputs": [],
   "source": [
    "# Use the preprocess module to get micrograph ready for segmentation\n",
    "preprocessed_micrograph = preprocess.preprocess_micrograph(\n",
    "    image_fullres,\n",
    "    downsample=4,\n",
    "    lowpass_mode=\"bilateral\",\n",
    "    d=17,\n",
    "    sigmaColor=71,\n",
    "    sigmaSpace=71\n",
    ")"
   ]
  },
  {
   "cell_type": "code",
   "execution_count": null,
   "id": "5978360c-0c2c-4084-834d-d1ab3b456ee4",
   "metadata": {},
   "outputs": [],
   "source": [
    "# Display the preprocessed micrograph\n",
    "plt.imshow(preprocessed_micrograph, cmap=\"Greys_r\")\n",
    "plt.axis('off')"
   ]
  },
  {
   "cell_type": "markdown",
   "id": "01fcb024-7293-4ca2-af46-d1327c3a41c5",
   "metadata": {},
   "source": [
    "# Generate masks"
   ]
  },
  {
   "cell_type": "code",
   "execution_count": null,
   "id": "0fbaa7d6-0ea2-4a89-9cef-9e33bfadba8a",
   "metadata": {},
   "outputs": [],
   "source": [
    "# Use the generate_masks module to perform automatic image segmentation\n",
    "# Initialize the model\n",
    "model = generate_masks.initialize_model(\n",
    "    model_weights_path=\"../sam_vit_h_4b8939.pth\",\n",
    "    device='cuda:0'\n",
    ")"
   ]
  },
  {
   "cell_type": "code",
   "execution_count": null,
   "id": "fe1ab0d3-024d-41f1-a91f-55650bf58688",
   "metadata": {},
   "outputs": [],
   "source": [
    "# Generate masks with user-optimized parameters\n",
    "masks = generate_masks.generate_masks(\n",
    "    preprocessed_micrograph,\n",
    "    model,\n",
    "    points_per_side=36,\n",
    "    points_per_batch=16,\n",
    "    pred_iou_thresh=0.9,\n",
    "    stability_score_thresh=0.9,\n",
    "    crop_n_layers=1,\n",
    "    crop_n_points_downscale_factor=2,\n",
    "    crop_nms_thresh=0.15,\n",
    "    min_mask_region_area=100,\n",
    "    psize=1.5,\n",
    "    downsample=4\n",
    ")"
   ]
  },
  {
   "cell_type": "markdown",
   "id": "5c61bc9c-3a7e-4b18-89c8-2ccac317b35c",
   "metadata": {},
   "source": [
    "# Postprocess masks"
   ]
  },
  {
   "cell_type": "code",
   "execution_count": null,
   "id": "b255e94b-4914-493d-8dd8-dfa10b350e05",
   "metadata": {},
   "outputs": [],
   "source": [
    "# Use the postprocess module to compute statistics on the vesicles\n",
    "postprocessed_masks = postprocess.postprocess_masks(\n",
    "    masks,\n",
    "    [\n",
    "        postprocess.find_mask_intensity,\n",
    "        postprocess.find_contour,\n",
    "        postprocess.find_roundness,\n",
    "        postprocess.fit_ellipse\n",
    "    ],\n",
    "    preprocessed_micrograph\n",
    ")"
   ]
  },
  {
   "cell_type": "code",
   "execution_count": null,
   "id": "c1703af7-54bc-4ccd-b333-343e01ad6a8c",
   "metadata": {
    "scrolled": true
   },
   "outputs": [],
   "source": [
    "# Filter these vesicles based on min and max values recorded in 'filters.ini'\n",
    "filtered_masks = postprocess.apply_filters(postprocessed_masks, \"filters.ini\")\n",
    "\n",
    "# Use the extract_statistics function to generate Pandas Dataframes\n",
    "# of the postprocessed values, for downstream analysis.\n",
    "unfiltered_dataset, filtered_dataset = (\n",
    "    postprocess.extract_statistics(postprocessed_masks, \"filters.ini\")\n",
    ")\n",
    "\n",
    "pd.DataFrame.head(filtered_dataset)"
   ]
  },
  {
   "cell_type": "code",
   "execution_count": null,
   "id": "627b0a70-f251-4822-af9c-94f43095dea4",
   "metadata": {},
   "outputs": [],
   "source": [
    "# Create a figure with three subplots arranged in a row\n",
    "fig, axes = plt.subplots(1, 3, figsize=(15, 5))\n",
    "\n",
    "# Plot the first image in the first subplot\n",
    "axes[0].imshow(preprocessed_micrograph, cmap=\"Greys_r\")\n",
    "axes[0].set_title('Preprocessed Micrograph')\n",
    "\n",
    "# Plot the second image in the second subplot\n",
    "axes[1].imshow(helpers.sum_masks(masks, 'segmentation'))\n",
    "axes[1].set_title('Detected Vesicles')\n",
    "\n",
    "# # Plot the third image in the third subplot\n",
    "axes[2].imshow(helpers.sum_masks(filtered_masks, 'segmentation'))\n",
    "axes[2].set_title('Filtered Vesicles')\n",
    "\n",
    "# Remove axis labels and ticks\n",
    "for ax in axes:\n",
    "    ax.axis('off')"
   ]
  },
  {
   "cell_type": "code",
   "execution_count": null,
   "id": "4ddd9ba0-f543-490b-a2ac-3f5a3fd79c60",
   "metadata": {},
   "outputs": [],
   "source": [
    "# Once you have a set of filters you like, generate the picks\n",
    "pick_indices = postprocess.generate_picks(\n",
    "    filtered_masks,\n",
    "    psize=1.03,\n",
    "    downsample=4,\n",
    "    box_size=100,\n",
    "    mode='edge'\n",
    ")"
   ]
  },
  {
   "cell_type": "code",
   "execution_count": null,
   "id": "e52ca3b8-33eb-4c31-9633-b6ba814dcd88",
   "metadata": {},
   "outputs": [],
   "source": [
    "# Dilate the masks\n",
    "dilated_masks = postprocess.dilate_masks(\n",
    "    filtered_masks,\n",
    "    dilation=100,\n",
    "    psize=1.03,\n",
    "    downsample=4\n",
    ")\n",
    "\n",
    "# Generate picks on dilated masks\n",
    "dilated_pick_indices = postprocess.generate_picks(\n",
    "    dilated_masks,\n",
    "    psize=1.03,\n",
    "    downsample=4,\n",
    "    box_size=100,\n",
    "    mode='edge'\n",
    ")"
   ]
  },
  {
   "cell_type": "code",
   "execution_count": null,
   "id": "f20dc90e-dfd2-4aaf-a97e-e0c2eb65b77a",
   "metadata": {},
   "outputs": [],
   "source": [
    "# Plot the preprocessed micrograph with picks overlaid\n",
    "plot_micrograph = preprocess.preprocess_micrograph(\n",
    "    image_fullres,\n",
    "    downsample=4,\n",
    "    lowpass_mode=\"bilateral\",\n",
    "    d=11,\n",
    "    sigmaColor=71,\n",
    "    sigmaSpace=71\n",
    ")\n",
    "fig = plt.figure()\n",
    "ax1 = fig.add_subplot(111)\n",
    "ax1.imshow(plot_micrograph, cmap=\"Greys_r\")\n",
    "\n",
    "# Overlay the undilated picks\n",
    "ax1.scatter(x=pick_indices[1]/4,\n",
    "            y=pick_indices[0]/4,\n",
    "            marker='x',\n",
    "            color='red',\n",
    "            s=1,\n",
    "            label='original')\n",
    "\n",
    "# And the dilated picks\n",
    "ax1.scatter(x=dilated_pick_indices[1]/4,\n",
    "            y=dilated_pick_indices[0]/4,\n",
    "            marker='x',\n",
    "            color='blue',\n",
    "            s=1,\n",
    "            label='dilated')\n",
    "\n",
    "plt.legend()\n",
    "plt.axis('off')\n",
    "plt.show()"
   ]
  },
  {
   "cell_type": "markdown",
   "id": "0b1ba99d-e86b-445f-b161-881c26bcac76",
   "metadata": {},
   "source": [
    "# Export pick locations to CryoSPARC"
   ]
  },
  {
   "cell_type": "code",
   "execution_count": null,
   "id": "f64e2c3f-07ba-41c9-a979-876fa051cc09",
   "metadata": {},
   "outputs": [],
   "source": [
    "# Adjust the pick values to reflect initial upsampling of image\n",
    "pick_indices = postprocess.generate_picks(\n",
    "    filtered_masks,\n",
    "    psize=1.03,\n",
    "    downsample=4,\n",
    "    box_size=16,\n",
    "    mode=\"edge\"\n",
    ")"
   ]
  },
  {
   "cell_type": "code",
   "execution_count": null,
   "id": "36bf8f80-14f7-4e26-b91a-c4afa4ac7936",
   "metadata": {},
   "outputs": [],
   "source": [
    "# Use the csparc_export module to construct\n",
    "# a dataset for export back to cryosparc\n",
    "pick_dataset = external_export.construct_csparc_dataset(\n",
    "    micrograph,\n",
    "    pick_indices\n",
    ")"
   ]
  },
  {
   "cell_type": "code",
   "execution_count": null,
   "id": "b170625d-94dd-4ca4-a382-febcee3f3d84",
   "metadata": {},
   "outputs": [],
   "source": [
    "# Send the dataset back to cryosparc\n",
    "csparc_export.export_to_csparc(cs, pick_dataset, \"PXX\", \"WXX\")"
   ]
  },
  {
   "cell_type": "code",
   "execution_count": null,
   "id": "33f228f6-c109-4a1b-8f12-00eaf7e607ce",
   "metadata": {},
   "outputs": [],
   "source": [
    "# Initialize project and job\n",
    "project = cs.find_project(\"PXX\")\n",
    "job = project.create_external_job(\"WXX\", title=\"Vesicle Picks\")\n",
    "\n",
    "# Tell the job what kind of output to expect\n",
    "job.add_output(\"particle\", \"vesicle_picks\", slots=[\"location\"])\n",
    "\n",
    "# Start the job, push the output to cryosparc, stop the job\n",
    "job.start()\n",
    "job.save_output(\"vesicle_picks\", pick_dataset)\n",
    "job.stop()"
   ]
  }
 ],
 "metadata": {
  "kernelspec": {
   "display_name": "Python 3 (ipykernel)",
   "language": "python",
   "name": "python3"
  },
  "language_info": {
   "codemirror_mode": {
    "name": "ipython",
    "version": 3
   },
   "file_extension": ".py",
   "mimetype": "text/x-python",
   "name": "python",
   "nbconvert_exporter": "python",
   "pygments_lexer": "ipython3",
   "version": "3.9.19"
  }
 },
 "nbformat": 4,
 "nbformat_minor": 5
}
