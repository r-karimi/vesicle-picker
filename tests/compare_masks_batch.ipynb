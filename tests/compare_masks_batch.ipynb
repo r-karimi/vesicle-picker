{
 "cells": [
  {
   "cell_type": "code",
   "execution_count": 1,
   "id": "ff01618e-f697-4be8-8735-29a543d85903",
   "metadata": {},
   "outputs": [
    {
     "name": "stderr",
     "output_type": "stream",
     "text": [
      "/tmp/ipykernel_30991/1004578838.py:4: DeprecationWarning: \n",
      "Pyarrow will become a required dependency of pandas in the next major release of pandas (pandas 3.0),\n",
      "(to allow more performant data types, such as the Arrow string type, and better interoperability with other libraries)\n",
      "but was not found to be installed on your system.\n",
      "If this would cause problems for you,\n",
      "please provide us feedback at https://github.com/pandas-dev/pandas/issues/54466\n",
      "        \n",
      "  import pandas as pd\n"
     ]
    }
   ],
   "source": [
    "# Notebook to import CSV output from LISA (manual annotation)\n",
    "# and compare to masks generated from segment-anything\n",
    "\n",
    "import pandas as pd\n",
    "from vesicle_picker import funcs_mrcio, preprocess, generate_masks, postprocess, helpers\n",
    "import matplotlib.pyplot as plt\n",
    "import numpy as np\n",
    "import copy\n",
    "from tqdm import tqdm, trange\n",
    "from cryosparc.tools import downsample\n",
    "import datetime\n",
    "import time"
   ]
  },
  {
   "cell_type": "code",
   "execution_count": 2,
   "id": "273c7a1c-3ad6-425d-8736-37f11ff6b4df",
   "metadata": {},
   "outputs": [],
   "source": [
    "# Read in the file\n",
    "manual_picks = pd.read_csv('/home/rkarimi/vesicle-picker-dev/vesicles_240/bounding_boxes/first_50_pass2.csv')\n",
    "\n",
    "# Find the centers\n",
    "manual_picks['x_center'] = manual_picks['x'] + manual_picks['width']/2\n",
    "manual_picks['y_center'] = manual_picks['y'] + manual_picks['height']/2\n",
    "\n",
    "# Compute the area\n",
    "manual_picks['area'] = manual_picks['width'] + manual_picks['height']\n",
    "\n",
    "# Extract the UIDs\n",
    "manual_picks['uid'] = manual_picks['file_name'].apply(lambda x: x.split(\"/\")[-1][:-4])"
   ]
  },
  {
   "cell_type": "code",
   "execution_count": 3,
   "id": "559bc814-084a-4d48-9182-d27214e8a7ad",
   "metadata": {},
   "outputs": [],
   "source": [
    "# Define an MRC import function\n",
    "def import_mrc(filename):\n",
    "    \"\"\"Use funcs_mrcio to open a specified .mrc file\"\"\"\n",
    "    # Read the .mrc file in binary\n",
    "    micrograph = open(filename,'rb')\n",
    "    \n",
    "    # Use funcs_mrcio to extract image array and rescale values to lie between [-1, 1]\n",
    "    image = funcs_mrcio.irdsec_opened(micrograph,0)\n",
    "    \n",
    "    # Use funcs_mrcio to extract header info\n",
    "    header = funcs_mrcio.irdhdr_opened(micrograph)\n",
    "    \n",
    "    # Return the rescaled image and header\n",
    "    return image, header"
   ]
  },
  {
   "cell_type": "code",
   "execution_count": 4,
   "id": "d7b26a53-3fb3-4697-a1ff-a737182b3d7f",
   "metadata": {},
   "outputs": [],
   "source": [
    "# Initialize the model\n",
    "model = generate_masks.initialize_model(model_weights_path = \"../sam_vit_h_4b8939.pth\", model_type='vit_h', device='cuda:0')"
   ]
  },
  {
   "cell_type": "code",
   "execution_count": 19,
   "id": "9cab1271-f156-4190-99af-8278bfb94bec",
   "metadata": {
    "scrolled": true
   },
   "outputs": [
    {
     "name": "stderr",
     "output_type": "stream",
     "text": [
      "  0%|                                                    | 0/50 [00:00<?, ?it/s]"
     ]
    },
    {
     "name": "stdout",
     "output_type": "stream",
     "text": [
      "Generating masks...\n"
     ]
    },
    {
     "name": "stderr",
     "output_type": "stream",
     "text": [
      "  2%|▉                                           | 1/50 [00:06<05:15,  6.45s/it]"
     ]
    },
    {
     "name": "stdout",
     "output_type": "stream",
     "text": [
      "6.214971542358398\n",
      "Precision: 0.41935483870967744\n",
      "Recall: 0.9069767441860465\n",
      "Generating masks...\n"
     ]
    },
    {
     "name": "stderr",
     "output_type": "stream",
     "text": [
      "  4%|█▊                                          | 2/50 [00:12<05:06,  6.38s/it]"
     ]
    },
    {
     "name": "stdout",
     "output_type": "stream",
     "text": [
      "6.086501121520996\n",
      "Precision: 0.40816326530612246\n",
      "Recall: 0.975609756097561\n",
      "Generating masks...\n"
     ]
    },
    {
     "name": "stderr",
     "output_type": "stream",
     "text": [
      "  6%|██▋                                         | 3/50 [00:19<04:56,  6.31s/it]"
     ]
    },
    {
     "name": "stdout",
     "output_type": "stream",
     "text": [
      "6.005996942520142\n",
      "Precision: 0.5068493150684932\n",
      "Recall: 0.925\n",
      "Generating masks...\n"
     ]
    },
    {
     "name": "stderr",
     "output_type": "stream",
     "text": [
      "  8%|███▌                                        | 4/50 [00:25<04:49,  6.30s/it]"
     ]
    },
    {
     "name": "stdout",
     "output_type": "stream",
     "text": [
      "6.042344570159912\n",
      "Precision: 0.5753424657534246\n",
      "Recall: 0.875\n",
      "Generating masks...\n"
     ]
    },
    {
     "name": "stderr",
     "output_type": "stream",
     "text": [
      " 10%|████▍                                       | 5/50 [00:31<04:43,  6.30s/it]"
     ]
    },
    {
     "name": "stdout",
     "output_type": "stream",
     "text": [
      "6.064033269882202\n",
      "Precision: 0.44565217391304346\n",
      "Recall: 0.9111111111111111\n",
      "Generating masks...\n"
     ]
    },
    {
     "name": "stderr",
     "output_type": "stream",
     "text": [
      " 12%|█████▎                                      | 6/50 [00:37<04:37,  6.31s/it]"
     ]
    },
    {
     "name": "stdout",
     "output_type": "stream",
     "text": [
      "6.104423761367798\n",
      "Precision: 0.4631578947368421\n",
      "Recall: 0.9361702127659575\n",
      "Generating masks...\n"
     ]
    },
    {
     "name": "stderr",
     "output_type": "stream",
     "text": [
      " 14%|██████▏                                     | 7/50 [00:44<04:30,  6.30s/it]"
     ]
    },
    {
     "name": "stdout",
     "output_type": "stream",
     "text": [
      "6.051300525665283\n",
      "Precision: 0.5454545454545454\n",
      "Recall: 0.9130434782608695\n",
      "Generating masks...\n"
     ]
    },
    {
     "name": "stderr",
     "output_type": "stream",
     "text": [
      " 16%|███████                                     | 8/50 [00:50<04:24,  6.29s/it]"
     ]
    },
    {
     "name": "stdout",
     "output_type": "stream",
     "text": [
      "6.044711589813232\n",
      "Precision: 0.3888888888888889\n",
      "Recall: 0.9722222222222222\n",
      "Generating masks...\n"
     ]
    },
    {
     "name": "stderr",
     "output_type": "stream",
     "text": [
      " 18%|███████▉                                    | 9/50 [00:57<04:22,  6.39s/it]"
     ]
    },
    {
     "name": "stdout",
     "output_type": "stream",
     "text": [
      "6.381892681121826\n",
      "Precision: 0.39325842696629215\n",
      "Recall: 0.875\n",
      "Generating masks...\n"
     ]
    },
    {
     "name": "stderr",
     "output_type": "stream",
     "text": [
      " 20%|████████▌                                  | 10/50 [01:03<04:17,  6.43s/it]"
     ]
    },
    {
     "name": "stdout",
     "output_type": "stream",
     "text": [
      "6.284584045410156\n",
      "Precision: 0.5180722891566265\n",
      "Recall: 1.0\n",
      "Generating masks...\n"
     ]
    },
    {
     "name": "stderr",
     "output_type": "stream",
     "text": [
      " 22%|█████████▍                                 | 11/50 [01:09<04:10,  6.41s/it]"
     ]
    },
    {
     "name": "stdout",
     "output_type": "stream",
     "text": [
      "6.150892734527588\n",
      "Precision: 0.5588235294117647\n",
      "Recall: 0.95\n",
      "Generating masks...\n"
     ]
    },
    {
     "name": "stderr",
     "output_type": "stream",
     "text": [
      " 24%|██████████▎                                | 12/50 [01:16<04:01,  6.34s/it]"
     ]
    },
    {
     "name": "stdout",
     "output_type": "stream",
     "text": [
      "5.954543113708496\n",
      "Precision: 0.5172413793103449\n",
      "Recall: 0.8571428571428571\n",
      "Generating masks...\n"
     ]
    },
    {
     "name": "stderr",
     "output_type": "stream",
     "text": [
      " 26%|███████████▏                               | 13/50 [01:22<03:55,  6.37s/it]"
     ]
    },
    {
     "name": "stdout",
     "output_type": "stream",
     "text": [
      "6.184713840484619\n",
      "Precision: 0.375\n",
      "Recall: 0.8918918918918919\n",
      "Generating masks...\n"
     ]
    },
    {
     "name": "stderr",
     "output_type": "stream",
     "text": [
      " 28%|████████████                               | 14/50 [01:28<03:49,  6.38s/it]"
     ]
    },
    {
     "name": "stdout",
     "output_type": "stream",
     "text": [
      "6.164534330368042\n",
      "Precision: 0.5595238095238095\n",
      "Recall: 0.9215686274509803\n",
      "Generating masks...\n"
     ]
    },
    {
     "name": "stderr",
     "output_type": "stream",
     "text": [
      " 30%|████████████▉                              | 15/50 [01:35<03:42,  6.35s/it]"
     ]
    },
    {
     "name": "stdout",
     "output_type": "stream",
     "text": [
      "6.040700197219849\n",
      "Precision: 0.4383561643835616\n",
      "Recall: 0.8888888888888888\n",
      "Generating masks...\n"
     ]
    },
    {
     "name": "stderr",
     "output_type": "stream",
     "text": [
      " 32%|█████████████▊                             | 16/50 [01:41<03:35,  6.34s/it]"
     ]
    },
    {
     "name": "stdout",
     "output_type": "stream",
     "text": [
      "6.087944746017456\n",
      "Precision: 0.3411764705882353\n",
      "Recall: 1.0\n",
      "Generating masks...\n"
     ]
    },
    {
     "name": "stderr",
     "output_type": "stream",
     "text": [
      " 34%|██████████████▌                            | 17/50 [01:47<03:28,  6.31s/it]"
     ]
    },
    {
     "name": "stdout",
     "output_type": "stream",
     "text": [
      "6.016156911849976\n",
      "Precision: 0.581081081081081\n",
      "Recall: 0.9555555555555556\n",
      "Generating masks...\n"
     ]
    },
    {
     "name": "stderr",
     "output_type": "stream",
     "text": [
      " 36%|███████████████▍                           | 18/50 [01:54<03:24,  6.38s/it]"
     ]
    },
    {
     "name": "stdout",
     "output_type": "stream",
     "text": [
      "6.307581186294556\n",
      "Precision: 0.5119047619047619\n",
      "Recall: 0.9555555555555556\n",
      "Generating masks...\n"
     ]
    },
    {
     "name": "stderr",
     "output_type": "stream",
     "text": [
      " 38%|████████████████▎                          | 19/50 [02:00<03:18,  6.39s/it]"
     ]
    },
    {
     "name": "stdout",
     "output_type": "stream",
     "text": [
      "6.174590826034546\n",
      "Precision: 0.4794520547945205\n",
      "Recall: 0.9210526315789473\n",
      "Generating masks...\n"
     ]
    },
    {
     "name": "stderr",
     "output_type": "stream",
     "text": [
      " 40%|█████████████████▏                         | 20/50 [02:07<03:11,  6.37s/it]"
     ]
    },
    {
     "name": "stdout",
     "output_type": "stream",
     "text": [
      "6.106512784957886\n",
      "Precision: 0.4025974025974026\n",
      "Recall: 0.8378378378378378\n",
      "Generating masks...\n"
     ]
    },
    {
     "name": "stderr",
     "output_type": "stream",
     "text": [
      " 42%|██████████████████                         | 21/50 [02:13<03:05,  6.39s/it]"
     ]
    },
    {
     "name": "stdout",
     "output_type": "stream",
     "text": [
      "6.202015161514282\n",
      "Precision: 0.3373493975903614\n",
      "Recall: 0.9655172413793104\n",
      "Generating masks...\n"
     ]
    },
    {
     "name": "stderr",
     "output_type": "stream",
     "text": [
      " 44%|██████████████████▉                        | 22/50 [02:19<02:59,  6.39s/it]"
     ]
    },
    {
     "name": "stdout",
     "output_type": "stream",
     "text": [
      "6.172145128250122\n",
      "Precision: 0.48148148148148145\n",
      "Recall: 0.975\n",
      "Generating masks...\n"
     ]
    },
    {
     "name": "stderr",
     "output_type": "stream",
     "text": [
      " 46%|███████████████████▊                       | 23/50 [02:26<02:52,  6.37s/it]"
     ]
    },
    {
     "name": "stdout",
     "output_type": "stream",
     "text": [
      "6.098781585693359\n",
      "Precision: 0.4457831325301205\n",
      "Recall: 0.925\n",
      "Generating masks...\n"
     ]
    },
    {
     "name": "stderr",
     "output_type": "stream",
     "text": [
      " 48%|████████████████████▋                      | 24/50 [02:32<02:45,  6.38s/it]"
     ]
    },
    {
     "name": "stdout",
     "output_type": "stream",
     "text": [
      "6.1532142162323\n",
      "Precision: 0.5\n",
      "Recall: 0.9111111111111111\n",
      "Generating masks...\n"
     ]
    },
    {
     "name": "stderr",
     "output_type": "stream",
     "text": [
      " 50%|█████████████████████▌                     | 25/50 [02:39<02:39,  6.37s/it]"
     ]
    },
    {
     "name": "stdout",
     "output_type": "stream",
     "text": [
      "6.137993574142456\n",
      "Precision: 0.37777777777777777\n",
      "Recall: 0.918918918918919\n",
      "Generating masks...\n"
     ]
    },
    {
     "name": "stderr",
     "output_type": "stream",
     "text": [
      " 52%|██████████████████████▎                    | 26/50 [02:45<02:32,  6.35s/it]"
     ]
    },
    {
     "name": "stdout",
     "output_type": "stream",
     "text": [
      "6.055973768234253\n",
      "Precision: 0.3132530120481928\n",
      "Recall: 1.0\n",
      "Generating masks...\n"
     ]
    },
    {
     "name": "stderr",
     "output_type": "stream",
     "text": [
      " 54%|███████████████████████▏                   | 27/50 [02:51<02:26,  6.37s/it]"
     ]
    },
    {
     "name": "stdout",
     "output_type": "stream",
     "text": [
      "6.18033504486084\n",
      "Precision: 0.4946236559139785\n",
      "Recall: 0.9387755102040817\n",
      "Generating masks...\n"
     ]
    },
    {
     "name": "stderr",
     "output_type": "stream",
     "text": [
      " 56%|████████████████████████                   | 28/50 [02:58<02:20,  6.36s/it]"
     ]
    },
    {
     "name": "stdout",
     "output_type": "stream",
     "text": [
      "6.124993801116943\n",
      "Precision: 0.43333333333333335\n",
      "Recall: 1.0\n",
      "Generating masks...\n"
     ]
    },
    {
     "name": "stderr",
     "output_type": "stream",
     "text": [
      " 58%|████████████████████████▉                  | 29/50 [03:04<02:13,  6.34s/it]"
     ]
    },
    {
     "name": "stdout",
     "output_type": "stream",
     "text": [
      "6.063704252243042\n",
      "Precision: 0.4605263157894737\n",
      "Recall: 0.9722222222222222\n",
      "Generating masks...\n"
     ]
    },
    {
     "name": "stderr",
     "output_type": "stream",
     "text": [
      " 60%|█████████████████████████▊                 | 30/50 [03:10<02:06,  6.33s/it]"
     ]
    },
    {
     "name": "stdout",
     "output_type": "stream",
     "text": [
      "6.064245223999023\n",
      "Precision: 0.59375\n",
      "Recall: 0.9743589743589743\n",
      "Generating masks...\n"
     ]
    },
    {
     "name": "stderr",
     "output_type": "stream",
     "text": [
      " 62%|██████████████████████████▋                | 31/50 [03:17<02:00,  6.37s/it]"
     ]
    },
    {
     "name": "stdout",
     "output_type": "stream",
     "text": [
      "6.229273080825806\n",
      "Precision: 0.40860215053763443\n",
      "Recall: 1.0\n",
      "Generating masks...\n"
     ]
    },
    {
     "name": "stderr",
     "output_type": "stream",
     "text": [
      " 64%|███████████████████████████▌               | 32/50 [03:23<01:54,  6.38s/it]"
     ]
    },
    {
     "name": "stdout",
     "output_type": "stream",
     "text": [
      "6.177482843399048\n",
      "Precision: 0.6097560975609756\n",
      "Recall: 1.0\n",
      "Generating masks...\n"
     ]
    },
    {
     "name": "stderr",
     "output_type": "stream",
     "text": [
      " 66%|████████████████████████████▍              | 33/50 [03:29<01:48,  6.38s/it]"
     ]
    },
    {
     "name": "stdout",
     "output_type": "stream",
     "text": [
      "6.145624399185181\n",
      "Precision: 0.4342105263157895\n",
      "Recall: 0.9705882352941176\n",
      "Generating masks...\n"
     ]
    },
    {
     "name": "stderr",
     "output_type": "stream",
     "text": [
      " 68%|█████████████████████████████▏             | 34/50 [03:36<01:41,  6.36s/it]"
     ]
    },
    {
     "name": "stdout",
     "output_type": "stream",
     "text": [
      "6.095986843109131\n",
      "Precision: 0.5540540540540541\n",
      "Recall: 0.9111111111111111\n",
      "Generating masks...\n"
     ]
    },
    {
     "name": "stderr",
     "output_type": "stream",
     "text": [
      " 70%|██████████████████████████████             | 35/50 [03:42<01:35,  6.37s/it]"
     ]
    },
    {
     "name": "stdout",
     "output_type": "stream",
     "text": [
      "6.151201248168945\n",
      "Precision: 0.43037974683544306\n",
      "Recall: 0.9444444444444444\n",
      "Generating masks...\n"
     ]
    },
    {
     "name": "stderr",
     "output_type": "stream",
     "text": [
      " 72%|██████████████████████████████▉            | 36/50 [03:48<01:28,  6.32s/it]"
     ]
    },
    {
     "name": "stdout",
     "output_type": "stream",
     "text": [
      "5.989606857299805\n",
      "Precision: 0.39436619718309857\n",
      "Recall: 0.7567567567567568\n",
      "Generating masks...\n"
     ]
    },
    {
     "name": "stderr",
     "output_type": "stream",
     "text": [
      " 74%|███████████████████████████████▊           | 37/50 [03:55<01:22,  6.35s/it]"
     ]
    },
    {
     "name": "stdout",
     "output_type": "stream",
     "text": [
      "6.201559782028198\n",
      "Precision: 0.7\n",
      "Recall: 0.3684210526315789\n",
      "Generating masks...\n"
     ]
    },
    {
     "name": "stderr",
     "output_type": "stream",
     "text": [
      " 76%|████████████████████████████████▋          | 38/50 [04:01<01:16,  6.36s/it]"
     ]
    },
    {
     "name": "stdout",
     "output_type": "stream",
     "text": [
      "6.168994426727295\n",
      "Precision: 0.4583333333333333\n",
      "Recall: 0.868421052631579\n",
      "Generating masks...\n"
     ]
    },
    {
     "name": "stderr",
     "output_type": "stream",
     "text": [
      " 78%|█████████████████████████████████▌         | 39/50 [04:08<01:09,  6.36s/it]"
     ]
    },
    {
     "name": "stdout",
     "output_type": "stream",
     "text": [
      "6.121952056884766\n",
      "Precision: 0.3670886075949367\n",
      "Recall: 0.9666666666666667\n",
      "Generating masks...\n"
     ]
    },
    {
     "name": "stderr",
     "output_type": "stream",
     "text": [
      " 80%|██████████████████████████████████▍        | 40/50 [04:14<01:04,  6.41s/it]"
     ]
    },
    {
     "name": "stdout",
     "output_type": "stream",
     "text": [
      "6.29654335975647\n",
      "Precision: 0.4942528735632184\n",
      "Recall: 0.8958333333333334\n",
      "Generating masks...\n"
     ]
    },
    {
     "name": "stderr",
     "output_type": "stream",
     "text": [
      " 82%|███████████████████████████████████▎       | 41/50 [04:20<00:57,  6.39s/it]"
     ]
    },
    {
     "name": "stdout",
     "output_type": "stream",
     "text": [
      "6.097041606903076\n",
      "Precision: 0.45588235294117646\n",
      "Recall: 0.7948717948717948\n",
      "Generating masks...\n"
     ]
    },
    {
     "name": "stderr",
     "output_type": "stream",
     "text": [
      " 84%|████████████████████████████████████       | 42/50 [04:27<00:50,  6.36s/it]"
     ]
    },
    {
     "name": "stdout",
     "output_type": "stream",
     "text": [
      "6.083202838897705\n",
      "Precision: 0.4473684210526316\n",
      "Recall: 0.8947368421052632\n",
      "Generating masks...\n"
     ]
    },
    {
     "name": "stderr",
     "output_type": "stream",
     "text": [
      " 86%|████████████████████████████████████▉      | 43/50 [04:33<00:44,  6.33s/it]"
     ]
    },
    {
     "name": "stdout",
     "output_type": "stream",
     "text": [
      "6.023542404174805\n",
      "Precision: 0.49333333333333335\n",
      "Recall: 0.925\n",
      "Generating masks...\n"
     ]
    },
    {
     "name": "stderr",
     "output_type": "stream",
     "text": [
      " 88%|█████████████████████████████████████▊     | 44/50 [04:39<00:38,  6.38s/it]"
     ]
    },
    {
     "name": "stdout",
     "output_type": "stream",
     "text": [
      "6.260336399078369\n",
      "Precision: 0.48863636363636365\n",
      "Recall: 0.9772727272727273\n",
      "Generating masks...\n"
     ]
    },
    {
     "name": "stderr",
     "output_type": "stream",
     "text": [
      " 90%|██████████████████████████████████████▋    | 45/50 [04:46<00:32,  6.42s/it]"
     ]
    },
    {
     "name": "stdout",
     "output_type": "stream",
     "text": [
      "6.277899980545044\n",
      "Precision: 0.40229885057471265\n",
      "Recall: 0.9459459459459459\n",
      "Generating masks...\n"
     ]
    },
    {
     "name": "stderr",
     "output_type": "stream",
     "text": [
      " 92%|███████████████████████████████████████▌   | 46/50 [04:52<00:25,  6.43s/it]"
     ]
    },
    {
     "name": "stdout",
     "output_type": "stream",
     "text": [
      "6.228031158447266\n",
      "Precision: 0.49411764705882355\n",
      "Recall: 0.9333333333333333\n",
      "Generating masks...\n"
     ]
    },
    {
     "name": "stderr",
     "output_type": "stream",
     "text": [
      " 94%|████████████████████████████████████████▍  | 47/50 [04:59<00:19,  6.40s/it]"
     ]
    },
    {
     "name": "stdout",
     "output_type": "stream",
     "text": [
      "6.092951774597168\n",
      "Precision: 0.4520547945205479\n",
      "Recall: 0.75\n",
      "Generating masks...\n"
     ]
    },
    {
     "name": "stderr",
     "output_type": "stream",
     "text": [
      " 96%|█████████████████████████████████████████▎ | 48/50 [05:05<00:12,  6.37s/it]"
     ]
    },
    {
     "name": "stdout",
     "output_type": "stream",
     "text": [
      "6.073664665222168\n",
      "Precision: 0.4383561643835616\n",
      "Recall: 0.8648648648648649\n",
      "Generating masks...\n"
     ]
    },
    {
     "name": "stderr",
     "output_type": "stream",
     "text": [
      " 98%|██████████████████████████████████████████▏| 49/50 [05:11<00:06,  6.37s/it]"
     ]
    },
    {
     "name": "stdout",
     "output_type": "stream",
     "text": [
      "6.14919900894165\n",
      "Precision: 0.5970149253731343\n",
      "Recall: 0.975609756097561\n",
      "Generating masks...\n"
     ]
    },
    {
     "name": "stderr",
     "output_type": "stream",
     "text": [
      "100%|███████████████████████████████████████████| 50/50 [05:18<00:00,  6.36s/it]"
     ]
    },
    {
     "name": "stdout",
     "output_type": "stream",
     "text": [
      "6.084271192550659\n",
      "Precision: 0.5396825396825397\n",
      "Recall: 0.7906976744186046\n"
     ]
    },
    {
     "name": "stderr",
     "output_type": "stream",
     "text": [
      "\n"
     ]
    }
   ],
   "source": [
    "# Loop over the images used for manual annotation\n",
    "\n",
    "# Define run parameters\n",
    "downsample_factor = 4\n",
    "lowpass_mode = 'bilateral'\n",
    "d = 20\n",
    "sigmaColor = 130\n",
    "sigmaSpace = 70\n",
    "pred_iou_thresh = 0.9\n",
    "stability_score_thresh = 0.9\n",
    "psize=1.03\n",
    "\n",
    "# # Define run parameters for Gaussian blur\n",
    "# downsample_factor = 4\n",
    "# lowpass_mode = 'gaussian'\n",
    "# kernel_size=(21,21)\n",
    "# sigma=0\n",
    "# pred_iou_thresh = 0.9\n",
    "# stability_score_thresh = 0.9\n",
    "# psize=1.03\n",
    "\n",
    "# Make some lists that exist outside of the loop to collect the information from the run\n",
    "precision_master = list()\n",
    "recall_master = list()\n",
    "runtime_master = list()\n",
    "\n",
    "# For all unique file IDs in the manual pick dataset:\n",
    "for i in tqdm(manual_picks['file_id'].unique()):\n",
    "#for i in trange(1):\n",
    "    # Extract the manual picks from that file\n",
    "    these_manual_picks = manual_picks[manual_picks['file_id'] == i]\n",
    "    # Construct the filepath for that raw MRC image\n",
    "    filepath = \"/home/rkarimi/vesicle-picker-dev/vesicles_240/raw_mrc/\"+these_manual_picks.iloc[0]['uid']+\".mrc\"\n",
    "    # Import the image\n",
    "    image_fullres, header = import_mrc(filepath)\n",
    "    \n",
    "    # Use the preprocess module to get micrograph ready for segmentation\n",
    "    preprocessed_micrograph = preprocess.preprocess_micrograph(image_fullres, \n",
    "                                                               downsample=downsample_factor, \n",
    "                                                               lowpass_mode=lowpass_mode,\n",
    "                                                               d=d,\n",
    "                                                               sigmaColor=sigmaColor,\n",
    "                                                               sigmaSpace=sigmaSpace)\n",
    "\n",
    "    # # Use the preprocess module to get micrograph ready for segmentation -gaussian\n",
    "    # preprocessed_micrograph = preprocess.preprocess_micrograph(image_fullres, \n",
    "    #                                                            downsample_factor=downsample_factor, \n",
    "    #                                                            lowpass_mode=lowpass_mode,\n",
    "    #                                                            ksize=kernel_size,\n",
    "    #                                                            sigmaX=sigma)\n",
    "\n",
    "    print(\"Generating masks...\")\n",
    "\n",
    "    # Downsample the image\n",
    "    #image = downsample(image_fullres, downsample_factor)\n",
    "    start_time = time.time()\n",
    "    # Generate masks with user-optimized parameters\n",
    "    masks = generate_masks.generate_masks(preprocessed_micrograph, model, \n",
    "                                          points_per_side=36,\n",
    "                                          points_per_batch=32,\n",
    "                                          pred_iou_thresh=pred_iou_thresh,\n",
    "                                          stability_score_thresh=stability_score_thresh,\n",
    "                                          crop_n_layers=1,\n",
    "                                          crop_n_points_downscale_factor=2,\n",
    "                                          crop_nms_thresh=0.1,\n",
    "                                          min_mask_region_area=100,\n",
    "                                          psize=1.03,\n",
    "                                          downsample=downsample_factor)\n",
    "    end_time = time.time()\n",
    "    runtime = end_time - start_time\n",
    "    runtime_master.append(runtime)\n",
    "    print(runtime)\n",
    "\n",
    "    # # Use the postprocess module to compute statistics on the vesicles\n",
    "    # postprocessed_masks = postprocess.postprocess_masks(masks, \n",
    "    #                               [postprocess.find_mask_intensity, postprocess.find_contour, postprocess.find_roundness, postprocess.fit_ellipse], \n",
    "    #                               preprocessed_micrograph)\n",
    "    \n",
    "    # # Filter these vesicles based on min and max values recorded in 'filters.ini'\n",
    "    # filtered_masks = postprocess.apply_filters(postprocessed_masks, \"filters_sigmac.ini\")\n",
    "        \n",
    "    # Visualize the generated masks\n",
    "    # Create a figure with three subplots arranged in a row\n",
    "    # fig, axes = plt.subplots(1, 2, figsize=(15, 5))\n",
    "    \n",
    "    # # Plot the first image in the first subplot\n",
    "    # axes[0].imshow(image_fullres, cmap=\"Greys_r\")\n",
    "    # axes[0].set_title('Preprocessed Micrograph')\n",
    "    \n",
    "    # # Plot the second image in the second subplot\n",
    "    # axes[1].imshow(helpers.sum_masks(masks, 'segmentation'))\n",
    "    # axes[1].set_title('SA Masks')\n",
    "    \n",
    "    # # Plot the third image in the third subplot\n",
    "    # axes[2].imshow(helpers.sum_masks(filtered_masks, 'segmentation'))\n",
    "    # axes[2].set_title('Filtered SA Masks')\n",
    "    \n",
    "    # # Remove axis labels and ticks\n",
    "    # for ax in axes:\n",
    "    #     ax.axis('off')\n",
    "    \n",
    "    # # Show the side-by-side plot\n",
    "    # plt.show()\n",
    "\n",
    "    SA_IOUs = list()\n",
    "    \n",
    "    for mask in masks:\n",
    "\n",
    "        # Loop over the masks and for each mask, calculate the IOU with the nearest manual bounding box\n",
    "        x_center = downsample_factor*mask['bbox'][0]/4 + downsample_factor*mask['bbox'][2]/8\n",
    "        y_center = downsample_factor*mask['bbox'][1]/4 + downsample_factor*mask['bbox'][3]/8\n",
    "        \n",
    "        # Extract the manual bounding box closest to the center\n",
    "        manual_index = np.argmin((x_center - these_manual_picks['x_center'])**2 + (y_center - these_manual_picks['y_center'])**2)\n",
    "        this_row = these_manual_picks.iloc[manual_index]\n",
    "\n",
    "        # Calculate the IOU with that bounding box\n",
    "        \n",
    "        # The SA pick\n",
    "        x1, y1, w1, h1 = downsample_factor*mask['bbox'][0]/4, downsample_factor*mask['bbox'][1]/4, downsample_factor*mask['bbox'][2]/4, downsample_factor*mask['bbox'][3]/4\n",
    "        # The manual pick\n",
    "        x2, y2, w2, h2 = this_row['x'], this_row['y'], this_row['width'], this_row['height']\n",
    "\n",
    "        # Calculate the (x, y)-coordinates of the intersection rectangle\n",
    "        xA = max(x1, x2)\n",
    "        yA = max(y1, y2)\n",
    "        xB = min(x1+w1, x2+w2)\n",
    "        yB = min(y1+h1, y2+h2)\n",
    "        \n",
    "        # Calculate the area of the intersection\n",
    "        interArea = max(0, xB - xA) * max(0, yB - yA)\n",
    "        \n",
    "        # Compute the area of both the prediction and ground-truth rectangles\n",
    "        box1Area = w1 * h1\n",
    "        box2Area = w2 * h2\n",
    "        \n",
    "        # Compute the intersection over union by taking the intersection\n",
    "        # area and dividing it by the sum of prediction + ground-truth\n",
    "        # areas - the interesection area\n",
    "        iou = interArea / float(box1Area + box2Area - interArea)\n",
    "        \n",
    "        SA_IOUs.append(iou)\n",
    "\n",
    "    #print(SA_IOUs)\n",
    "\n",
    "    # Calculate the number of true positives\n",
    "    true_masks = len([iou for iou in SA_IOUs if iou >= 0.5])\n",
    "\n",
    "    # Calculate the total number of SA masks\n",
    "    all_masks_SA = len(SA_IOUs)\n",
    "\n",
    "    # Calculate the total number of manual masks\n",
    "    all_masks_manual = len(these_manual_picks)\n",
    "\n",
    "    # Update the master lists\n",
    "    if all_masks_SA == 0:\n",
    "        precision_master.append(np.nan)\n",
    "    else:\n",
    "        precision_master.append((true_masks/all_masks_SA))\n",
    "    recall_master.append((true_masks/all_masks_manual))\n",
    "\n",
    "    # Print the precision and recall\n",
    "    print(\"Precision: \"+str(true_masks/all_masks_SA))\n",
    "    print(\"Recall: \"+str(true_masks/all_masks_manual))\n",
    "    "
   ]
  },
  {
   "cell_type": "code",
   "execution_count": 20,
   "id": "d8683d09-84e5-4aad-b37b-7f4c3ae6f191",
   "metadata": {},
   "outputs": [],
   "source": [
    "# At the end of the run, pull together all the parameters into a Dataframe and save it to disk\n",
    "\n",
    "# Get the current date and time\n",
    "current_datetime = datetime.datetime.now()\n",
    "\n",
    "# Format the date and time as a string\n",
    "formatted_datetime = \"sigmac_search/sigmac_130_\"+current_datetime.strftime(\"%Y-%m-%d_%H-%M\")+\".csv\"\n",
    "\n",
    "pd.DataFrame({'recall': recall_master, \n",
    "            'precision': precision_master, \n",
    "            'model': 'vit_h',\n",
    "            'lowpass': 'bilateral',\n",
    "            'downsample': downsample_factor,\n",
    "            'iou': pred_iou_thresh,\n",
    "            'stability': stability_score_thresh,\n",
    "            'runtime': runtime_master,\n",
    "            'uid': manual_picks['uid'].unique()}).to_csv(formatted_datetime, index=True)"
   ]
  },
  {
   "cell_type": "code",
   "execution_count": null,
   "id": "013ab337-2457-4069-9363-87142db04252",
   "metadata": {},
   "outputs": [],
   "source": [
    "# From here, we want to repeat this over all SA masks\n",
    "\n",
    "# Cases\n",
    "# True positive: An SA mask has a corresponding manual mask an IOU of >0.8 for example\n",
    "# False positive: An SA mask does not have a corresponding manual mask with an IOU of >0.8\n",
    "# False negative: A manual mask does not match to an SA mask -> how to we check for this?\n",
    "\n",
    "# Precision: ratio of TP/(TP + FP)\n",
    "# Recall: ratio of TP/(TP + FN)\n",
    "\n",
    "# Plot values of precision and recall varying IOU threshold and stability score together? Bump by 0.05 from 0.75 to 1 while keeping the other fixed at 0.9\n",
    "\n",
    "# First testing--bring down the SA thresholds to maximize recall.\n",
    "# Oh, and evaluate vit-b and vit-l.\n",
    "\n",
    "# Vary IOU threshold from 0.6 to 0.95 keeping stability score fixed for vit_b, vit_l, and vit_h. We will probably find that vit_h outperforms at all thresholds.\n",
    "# Don't lowpass filter it."
   ]
  },
  {
   "cell_type": "code",
   "execution_count": 9,
   "id": "3b7fcb0f-04b3-4ff3-bd83-6a10bee5f58a",
   "metadata": {},
   "outputs": [],
   "source": [
    "# For the figure--DO NOT CHANGE. LOWPASS + FILTERING\n",
    "lowpass_post_recall = np.mean(recall_master)\n",
    "lowpass_post_recall_sd = np.std(recall_master)\n",
    "lowpass_post_precision = np.mean(precision_master)\n",
    "lowpass_post_precision_sd = np.std(precision_master)"
   ]
  },
  {
   "cell_type": "code",
   "execution_count": 10,
   "id": "c1574d92-0c97-4ee8-b7f3-9a0eab94cbff",
   "metadata": {},
   "outputs": [
    {
     "name": "stdout",
     "output_type": "stream",
     "text": [
      "0.7937512947738707 0.898052087119606\n"
     ]
    }
   ],
   "source": [
    "print(lowpass_post_precision, lowpass_post_recall)"
   ]
  },
  {
   "cell_type": "code",
   "execution_count": 11,
   "id": "916fe8cb-9abc-4c6d-9afc-b1d41fcea863",
   "metadata": {},
   "outputs": [
    {
     "name": "stdout",
     "output_type": "stream",
     "text": [
      "0.06550005777509982 0.06632071635290356\n"
     ]
    }
   ],
   "source": [
    "print(lowpass_post_precision_sd, lowpass_post_recall_sd)"
   ]
  },
  {
   "cell_type": "code",
   "execution_count": 14,
   "id": "0f87d3da-7ffc-4f95-aabf-39c70600f73f",
   "metadata": {},
   "outputs": [],
   "source": [
    "# LOWPASS, NO FILTERING\n",
    "lowpass_post_recall = np.mean(recall_master)\n",
    "lowpass_post_recall_sd = np.std(recall_master)\n",
    "lowpass_post_precision = np.mean(precision_master)\n",
    "lowpass_post_precision_sd = np.std(precision_master)"
   ]
  },
  {
   "cell_type": "code",
   "execution_count": 15,
   "id": "0c1f371d-3f38-471b-80cb-f00c542b5dd0",
   "metadata": {},
   "outputs": [
    {
     "name": "stdout",
     "output_type": "stream",
     "text": [
      "0.5880396069323136 0.9259140062984508\n",
      "0.0817208828768312 0.05774705786948508\n"
     ]
    }
   ],
   "source": [
    "print(lowpass_post_precision, lowpass_post_recall)\n",
    "print(lowpass_post_precision_sd, lowpass_post_recall_sd)"
   ]
  },
  {
   "cell_type": "code",
   "execution_count": 19,
   "id": "b6fed7d9-2487-4bb6-ad60-4d4d5435f6e1",
   "metadata": {},
   "outputs": [
    {
     "name": "stdout",
     "output_type": "stream",
     "text": [
      "0.7909151693874147 0.5288413066174151\n",
      "0.08415876305686014 0.14954439124898108\n"
     ]
    }
   ],
   "source": [
    "lowpass_post_recall = np.mean(recall_master)\n",
    "lowpass_post_recall_sd = np.std(recall_master)\n",
    "lowpass_post_precision = np.mean(precision_master)\n",
    "lowpass_post_precision_sd = np.std(precision_master)\n",
    "print(lowpass_post_precision, lowpass_post_recall)\n",
    "print(lowpass_post_precision_sd, lowpass_post_recall_sd)"
   ]
  },
  {
   "cell_type": "code",
   "execution_count": 66,
   "id": "5e59c0b8-06ff-4cf0-b6a0-b9d6ac14741d",
   "metadata": {},
   "outputs": [
    {
     "data": {
      "image/png": "[encoded data removed]",
      "text/plain": [
       "<Figure size 1000x600 with 1 Axes>"
      ]
     },
     "metadata": {},
     "output_type": "display_data"
    }
   ],
   "source": [
    "# Make a bar graph for the poster\n",
    "\n",
    "import pandas as pd\n",
    "import seaborn as sns\n",
    "import matplotlib.pyplot as plt\n",
    "\n",
    "# Sample data\n",
    "data = {\n",
    "    'Category': ['No Lowpass, No Filtering', 'No Lowpass, No Filtering', 'Lowpass, No Filtering', 'Lowpass, No Filtering', 'Lowpass and Filtering', 'Lowpass and Filtering'],\n",
    "    'Group': ['Recall', 'Precision', 'Recall', 'Precision', 'Recall', 'Precision'],\n",
    "    'Value': 100*np.array([0.5288413066174151, 0.7909151693874147, 0.9259140062984508, 0.5880396069323136, 0.898052087119606, 0.7937512947738707]),\n",
    "    'Error': [0.14954439124898108, 0.08415876305686014, 0.05774705786948508, 0.0817208828768312, 0.06632071635290356, 0.06550005777509982]\n",
    "}\n",
    "\n",
    "# Creating DataFrame\n",
    "df = pd.DataFrame(data)\n",
    "\n",
    "# Plotting\n",
    "plt.figure(figsize=(10, 6))\n",
    "g = sns.barplot(x='Category', y='Value', hue='Group', data=df, palette='Set1')\n",
    "plt.xlabel(None)\n",
    "plt.ylabel(\"%\")\n",
    "plt.ylim(0, 100) \n",
    "g.legend_.set_title(None)\n",
    "plt.savefig('my_high_res_figure.png', dpi=600)\n",
    "\n",
    "plt.show()\n",
    "\n"
   ]
  },
  {
   "cell_type": "code",
   "execution_count": null,
   "id": "ea4a94fe-e59a-4713-8abb-e3f13734d81c",
   "metadata": {},
   "outputs": [],
   "source": [
    "import numpy as np\n",
    "\n",
    "# Expanding the sample data to include multiple values for each group\n",
    "expanded_data = {\n",
    "    'Category': ['Category A']*6 + ['Category B']*6 + ['Category C']*6,\n",
    "    'Group': ['Group 1', 'Group 1', 'Group 1', 'Group 2', 'Group 2', 'Group 2']*3,\n",
    "    'Value': np.random.randint(10, 20, 6).tolist() + \n",
    "             np.random.randint(20, 30, 6).tolist() +\n",
    "             np.random.randint(30, 40, 6).tolist()\n",
    "}\n",
    "\n",
    "# Creating an expanded DataFrame\n",
    "expanded_df = pd.DataFrame(expanded_data)\n",
    "\n",
    "# Plotting with error bars (standard deviation)\n",
    "plt.figure(figsize=(10, 6))\n",
    "sns.barplot(x='Category', y='Value', hue='Group', data=expanded_df, ci='sd')\n",
    "plt.title('Bar Graph with Error Bars (Standard Deviation)')\n",
    "plt.show()\n"
   ]
  }
 ],
 "metadata": {
  "kernelspec": {
   "display_name": "Python 3 (ipykernel)",
   "language": "python",
   "name": "python3"
  },
  "language_info": {
   "codemirror_mode": {
    "name": "ipython",
    "version": 3
   },
   "file_extension": ".py",
   "mimetype": "text/x-python",
   "name": "python",
   "nbconvert_exporter": "python",
   "pygments_lexer": "ipython3",
   "version": "3.9.18"
  }
 },
 "nbformat": 4,
 "nbformat_minor": 5
}
